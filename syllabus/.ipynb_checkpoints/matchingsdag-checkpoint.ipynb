{
 "cells": [
  {
   "cell_type": "markdown",
   "metadata": {},
   "source": [
    "# Hanzehogeschool Groningen - Studie Keuze Check; Matchingsdag\n",
    "\n"
   ]
  },
  {
   "cell_type": "markdown",
   "metadata": {},
   "source": [
    "## Introductie\n",
    "\n",
    "Welkom bij het praktische gedeelte van de matchingsdag waarbij je middels oefeningen kunt ervaren wat enkele werkzaamheden zijn van een bio-informaticus. In dit geval betreft het de visualisatie en analyze van het *Hemagglutinine* eiwit van het Influenza A virus met als doel het identificeren van verschillen tussen varianten van dit eiwit. Tevens kan dit moment worden gebruikt om voor ons en voor jezelf te bekijken of je affiniteit hebt met de werkwijze waarmee je ook in het onderwijs in aanraking komt.\n",
    "\n",
    "De opdrachten maken gebruik van het 3D-visualisatie programma *PyMOL* en de programmeertaal *Python*, waarin ook PyMOL gemaakt is. De programmeeropdrachten worden steeds ingeleid met voorbeelden die de benodigde concepten uitleggen die daarna zelf toegepast dienen te worden. Bij onduidelijkheden is het mogelijk de aanwezige studenten om hulp te vragen."
   ]
  },
  {
   "cell_type": "markdown",
   "metadata": {},
   "source": [
    "## 1. Verkrijgen Biologische Data\n",
    "\n",
    "Om de opdrachten te kunnen uitvoeren hebben we allereerst de benodigde *data* nodig. Het gaat in dit geval om een enkel bestand dat het eiwit *Hemagglutinine* beschrijft, die te vinden is in de *Protein Data Bank* (PDB). Dit eiwit is in een ver verleden een keer het [*molecuul van de maand*](http://pdb101.rcsb.org/motm/76) geweest en is daarom uitvoerig beschreven.\n",
    "\n",
    "* Zoek op de bovenstaande pagina de databank *entry* op voor de *actieve vorm* van het Hemagglutinine eiwit en klik op de bijbehorende link.\n",
    "    + Op deze nieuwe pagina staat veel informatie over het eiwit; o.a. om welke variant van Hemagglutinine het gaat (de **H1** variant) en het jaar waarin deze gevonden is (1918, het jaar waarop de *Spaanse griep* zorgde voor één van 's werelds grootste natuurrampen in de geschiedenis van de mensheid).\n",
    "\n",
    "\n",
    "* Download het bestand dat de volledige structuur van dit eiwit beschrijft:\n",
    "    + Klik op de `Download Files` knop rechtsbovenaan de pagina\n",
    "    + Klik vervolgens op de `PDB Format` link in het verschenen menu\n",
    "    + Het bestand wordt nu gedownload naar de `Downloads` map\n",
    "\n",
    "Je ben nu klaar om dit molecuul in meer detail te gaan bekijken in PyMOL, ga hiervoor verder naar de volgende opdracht."
   ]
  },
  {
   "cell_type": "markdown",
   "metadata": {},
   "source": [
    "## 2. Visualisatie; *Hemagglutinine*\n",
    "\n",
    "De data waarmee gewerkt wordt in de bio-informatica is in de basis vaak tekst. Zoals grote bestanden vol met DNA- or aminozuur-sequenties (eiwitten). Indien mogelijk is het altijd aan te raden om de data te *visualiseren* om het zo beter inzichtelijk te maken. Het zojuist gedownloade PDB bestand is hier een goed voorbeeld van. Alleereerst gaan we kort kijken *wat* er in dit bestand staat om het daarna te visualiseren met PyMOL.\n",
    "\n",
    "* Doel:\n",
    "    + Inzicht verkrijgen in biologische *data*\n",
    "    + Kennismaking met PyMOL *interface*\n",
    "    + Verschillende visualisatie technieken toepassen (namelijk *atomistisch* en *cartoon*)\n",
    "    \n",
    "### Inhoud PDB-bestand\n",
    "\n",
    "Open de *bestandsbrowser* door in de onderste balk op de aangegeven knop te klikken: <img style=\"float: right;\" src=\"images/debian_taskbar.PNG\" width=\"300\"/>. Ga vervolgens naar de `Downloads` map om het gedownloade PDB-bestand te vinden. Dit bestand is in principe een standaard tekst-bestand en kan daardoor door meerdere programma's geopend worden. Klik met de rechtermuis op het bestand en selecteer *Open File With* om daarna *Geany* te selecteren. Zoals te zien bovenaan het document staat veel van de informatie die te vinden is op de website ook hier in. Op regel `479` begint een onderdeel genaamd `SEQRES` waar de eiwit sequenties van alle losse onderdelen te vinden zijn. Om het molecuul in vol detail te kunnen weergeven is echter meer detail nodig. Hiervoor staat vanaf regel `775` tot bijna het einde van het bestand (meer dan 12.000 regels verder) per regel één atoom beschreven. Hieronder volgt een voorbeeld van 4 atomen op de posities 6047-6050:\n",
    "\n",
    "```\n",
    "ATOM   6047  N   PRO J 294      35.077 120.037  39.710  1.00 44.09           N \n",
    "ATOM   6048  CA  PRO J 294      34.451 118.833  40.257  1.00 42.65           C  \n",
    "ATOM   6049  C   PRO J 294      35.186 117.516  40.094  1.00 41.43           C  \n",
    "ATOM   6050  O   PRO J 294      34.975 116.596  40.879  1.00 41.99           O\n",
    "```\n",
    "\n",
    "De eerste drie komma-getallen zijn de x-, y- en z-coordinaten die gebruikt worden om het molecuul mee te visualiseren. De laatste kolom is het atoom dat zich op deze positie in het eiwit bevind (in dit voorbeeld; stikstof (*N*), koostof (*C*), koolstof en zuurstof (*O*)).\n",
    "\n",
    "### Visualisatie met PyMOL\n",
    "\n",
    "We gaan het bestand nu openen met PyMOL.\n",
    "\n",
    "**TODO**"
   ]
  },
  {
   "cell_type": "markdown",
   "metadata": {},
   "source": [
    "## 3. Data Analyse; *Active Sites*\n",
    "\n",
    "In deze opdracht wordt gewerkt aan het lokaliseren van de *actieve locaties* van enkele *subunits* van het Hemagglutinine eiwit. Ook grote eiwitten hebben vaak maar één of enkele locaties die daadwerkelijk interacties aangaan met andere moleculen. Zo is er van Hemagglutinine ook bekend op welke plekken het eiwit \n",
    "\n",
    "* Doel: \n",
    "    + Inzicht verkrijgen in atomaire structuur van het oppervlakte eiwit Hemagglutinine.\n",
    "    + Eerste kennismaking met programmeren\n",
    "    + Het verschil herkennen tussen *variabelen* van verschillende typen (namelijk *strings* en *integers*)\n",
    "    \n",
    "### Programmeren; introductie\n",
    "\n",
    "\n",
    "### Programmeren; *variabelen*\n",
    "\n",
    "\n",
    "#### Type variabelen\n",
    "\n",
    "Tijdens deze oefeningen maken we gebruik van twee type variabelen, namelijk *strings* (voor het opslaan van alle tekstuele data vormen) en *integers* voor het opslaan van hele getallen. \n",
    "\n",
    "### Programmeren; *slicing*\n",
    "\n",
    "Getals variabelen bevatten altijd maar één getal (`x = 42`) en het is niet mogelijk om hier alleen de `4` of de `2` uit te halen (is ook vrij zinloos). Met string variabelen is het echter wel mogelijk om elke **letter** afzonderlijk te benaderen, bijv. de eerste of laatste letter, of de eerste drie letters enz. De technische term hiervoor is *slicen*, oftewel er een gedeelte 'uit snijden'. Door blokhaken ('`[`' en '`]`') *achter* de variabele naam te plaatsen met daartussen een getal kunnen er karakters uitgehaald worden. Belangrijk punt om te onthouden, het **eerste** element zit op positie **0**! Zo zal bijv. het getal 10 het 11$^e$ karakter uit de string geven, bijvoorbeeld `seq[10]` geeft het 11$^e$ karakter uit de string variabele `seq`. \n",
    "\n",
    "Naast een enkel getal zijn er nog meer opties om tussen de blokhaken te zetten. De opties die we nodig hebben zijn:\n",
    "* een getals*reeks* met een start en een eind, gescheiden door een dubbele-punt '`:`', bijvoorbeeld:\n",
    "    + Van het eerste tot en met het 3$^e$ karakter: `seq[`**`0:3`**`]` (dit zijn echter posities 0, 1 & 2!)\n",
    "    + Van karakter 10 t/m 15: `seq[`**`9:15`**`]`\n",
    "* Van het begin t/m een bepaalde positie, of vanaf een bepaalde positie *tot het einde* door het weglaten van het *start* of *eind* getal:\n",
    "    + Van het begin t/m het 3$^e$ karakter: `seq[`**`:3`**`]`\n",
    "    + Vanaf karakter 10 (positie 9) t/m het einde: `seq[`**`9:`**`]`\n",
    "* En als laatste het gebruik van *negatieve posities* om vanaf het eind te beginnen:\n",
    "    + De laatste drie karakters door van positie `-3` tot en met het einde: `seq[`**`-3:`**`]`\n",
    "\n",
    "Hieronder staat een stuk *interactieve code* die bovenstaande voorbeelden demonstreert. Om het resultaat van een *expressie* te zien is het nodig om deze te *printen*. Om deze reden staat er overal `print( )` omheen met tussen de haakjes een stukje tekst dat aangeeft wat er geprint wordt en daarna - gescheiden met een komma - een voorbeeld van *slicing* zoals hierboven besproken. Als onderstaande code wordt aangepast kan deze uitgevoerd worden met de toetscombinatie `Shift + Enter`.\n",
    "\n",
    "**Oefening:** Verander de laatste regel uit onderstaand code voorbeeld zodat het *tweede* codon geprint wordt ('`TCA`'). Pas het gedeelte '`seq[0]`' aan zodat, wanneer je op `Shift + Enter` drukt er het juiste codon geprint wordt."
   ]
  },
  {
   "cell_type": "code",
   "execution_count": 42,
   "metadata": {},
   "outputs": [
    {
     "name": "stdout",
     "output_type": "stream",
     "text": [
      "De eerste base: A\n",
      "De laatste base: G\n",
      "De eerste drie basen (eerste \"codon\"): ATG\n",
      "De laatste drie basen (laatste \"codon\"): TAG\n",
      "Het tweede \"codon\" (TCA, basen 4 t/m 6): A\n"
     ]
    }
   ],
   "source": [
    "# Voorbeeld sequentie opgeslagen als String in de variabele 'seq'\n",
    "seq = \"ATGTCAGACCTAGTGCCGGAATCGATCGATATCGAGTAG\"\n",
    "\n",
    "# De volgende vier 'statements' printen elk één of meerdere basen uit bovenstaande DNA sequentie\n",
    "print('De eerste base:', seq[0] )\n",
    "\n",
    "print('De laatste base:', seq[-1] )\n",
    "\n",
    "print('De eerste drie basen (eerste \"codon\"):', seq[0:3] )\n",
    "\n",
    "print('De laatste drie basen (laatste \"codon\"):', seq[-3:] )\n",
    "\n",
    "print('Het tweede \"codon\" (TCA, basen 4 t/m 6):', seq[0])"
   ]
  },
  {
   "cell_type": "markdown",
   "metadata": {},
   "source": [
    "Het eiwit Hemagglutinine bestaat ten minste uit 6 onderdelen; twee unieke (*chains* genoemd) die elk drie keer in het uiteindelijke eiwit zitten. In elk van deze chains zitten enkele posities die ervoor zorgen dat het zijn schadelijke effect kan uitoefenen.\n",
    "\n",
    "In de volgende oefening gaan we kijken wat de *oorsprong* van dit Influenza virus is. Als er namelijk op positie **72** in de H, J en L chains een **asparaginezuur** amiozuur (aangeduid met de letter **D**) zit, heeft het virus een oorspong in de vogel. Als er op deze positie echter het aminozuur **glutaminezuur** (aangeduid met de letter **E**) zit, is het virus oorspronkelijk afkomstig uit de mens.\n",
    "\n",
    "**Oefening:** Bepaal welk aminozuur er op positie **72** zit in de sequentie opgeslagen in de variabele `seq` en print deze. Download hiervoor het [bijbehorende *FASTA* bestand](https://www.rcsb.org/pdb/download/downloadFastaFiles.do?structureIdList=1RUZ&compressionType=uncompressed), ook afkomstig uit de *Protein Data Bank*. Open dit bestand (zie de `Downloads` map, zoals bij Opdracht 2) in de Geany tekst-editor en kopieer de sequentie van de juiste *chain* en sla deze op in de variabele `seq` in het code voorbeeld hier onder, tussen de dubbele aanhalingstekens. Voeg de benodigde code als laatste regel toe in onderstaand voorbeeld en gebruik `Shift + Enter` om het resultaat te kunnen zien. Wat is de oorsprong van deze variant van het Influenza virus?"
   ]
  },
  {
   "cell_type": "code",
   "execution_count": 44,
   "metadata": {},
   "outputs": [
    {
     "name": "stdout",
     "output_type": "stream",
     "text": [
      "Lengte van de aminozuur sequentie: 0\n"
     ]
    }
   ],
   "source": [
    "# De sequentie voor de chains H, J en L.\n",
    "seq = \"\"\n",
    "\n",
    "# Geeft de lengte van de sequentie aan\n",
    "print(\"Lengte van de aminozuur sequentie:\", len(seq))\n",
    "\n",
    "# Bepaling aminozuur op positie 72\n"
   ]
  },
  {
   "cell_type": "markdown",
   "metadata": {},
   "source": [
    "## 4. Visualisatie; *Active Sites*\n",
    "\n",
    "* Doel:\n",
    "    + Koppeling tussen grafische interface en commandogestuurd taken uitvoeren\n",
    "\n"
   ]
  },
  {
   "cell_type": "markdown",
   "metadata": {},
   "source": [
    "## 5. Data Analyse; *Sequence Alignment*\n",
    "\n",
    "Nu we een goed beeld hebben van het eiwit van de H1 variant uit 1918 kunnen we een vergelijking maken met een Hemagglutinine eiwit van een *andere* variant.\n",
    "\n",
    "* Doel:\n",
    "    + Data vergelijken met programmeer technieken\n",
    "\n",
    "### Programmeren; *vergelijkingen*\n",
    "\n",
    "Het vergelijken van *objecten* (bijv. getallen of tekst) is een belangrijke, veelvoorkomende taak bij het programmeren."
   ]
  },
  {
   "cell_type": "code",
   "execution_count": null,
   "metadata": {},
   "outputs": [],
   "source": []
  },
  {
   "cell_type": "markdown",
   "metadata": {},
   "source": [
    "### Programmeren; *herhaling*\n",
    "\n",
    "Mogelijk is het al duidelijk geworden, maar het vergelijken van sequenties die - van nature - bestaan uit meerdere karakters (basen of aminozuren) kan niet met een enkel `if`-statement. Een sequentie vergelijken gaat per karakter, met de sequenties waar wij naar kijken dus al gauw zo'n 300 vergelijkingen in totaal. Aangezien de procedure van elke individuele vergelijking hetzelfde is kunnen we gebruik maken van *herhaling*."
   ]
  },
  {
   "cell_type": "code",
   "execution_count": null,
   "metadata": {},
   "outputs": [],
   "source": []
  }
 ],
 "metadata": {
  "kernelspec": {
   "display_name": "Python 3",
   "language": "python",
   "name": "python3"
  },
  "language_info": {
   "codemirror_mode": {
    "name": "ipython",
    "version": 3
   },
   "file_extension": ".py",
   "mimetype": "text/x-python",
   "name": "python",
   "nbconvert_exporter": "python",
   "pygments_lexer": "ipython3",
   "version": "3.6.4"
  }
 },
 "nbformat": 4,
 "nbformat_minor": 2
}
