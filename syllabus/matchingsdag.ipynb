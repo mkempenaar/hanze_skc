{
 "cells": [
  {
   "cell_type": "markdown",
   "metadata": {},
   "source": [
    "# Hanzehogeschool Groningen - Studie Keuze Check; Matchingsdag\n",
    "\n"
   ]
  },
  {
   "cell_type": "markdown",
   "metadata": {},
   "source": [
    "## Introductie\n",
    "\n",
    "Welkom bij het praktische gedeelte van de matchingsdag waarbij je middels oefeningen kunt ervaren wat enkele werkzaamheden zijn van een bio-informaticus. In dit geval betreft het de visualisatie en analyze van het *Hemagglutinine* eiwit van het Influenza A virus met als doel het identificeren van verschillen tussen varianten van dit eiwit. Tevens kan dit moment worden gebruikt om voor ons en voor jezelf te bekijken of je affiniteit hebt met de werkwijze waarmee je ook in het onderwijs in aanraking komt.\n",
    "\n",
    "De opdrachten maken gebruik van het 3D-visualisatie programma *PyMOL* en de programmeertaal *Python*, waarin ook PyMOL gemaakt is. De programmeeropdrachten worden steeds ingeleid met voorbeelden die de benodigde concepten uitleggen die daarna zelf toegepast dienen te worden. Bij onduidelijkheden is het mogelijk de aanwezige studenten om hulp te vragen."
   ]
  },
  {
   "cell_type": "markdown",
   "metadata": {},
   "source": [
    "## 1. Verkrijgen Biologische Data\n",
    "\n",
    "Om de opdrachten te kunnen uitvoeren hebben we allereerst de benodigde *data* nodig. Het gaat in dit geval om een enkel bestand dat het eiwit *Hemagglutinine* beschrijft, die te vinden is in de *Protein Data Bank* (PDB). Dit eiwit is in een ver verleden een keer het [*molecuul van de maand*](http://pdb101.rcsb.org/motm/76) geweest en is daarom uitvoerig beschreven.\n",
    "\n",
    "* Zoek op de bovenstaande pagina de databank *entry* op voor de *actieve vorm* van het Hemagglutinine eiwit en klik op de bijbehorende link.\n",
    "    + Op deze nieuwe pagina staat veel informatie over het eiwit; o.a. om welke variant van Hemagglutinine het gaat (de **H1** variant) en het jaar waarin deze gevonden is (1918, het jaar waarop de *Spaanse griep* zorgde voor één van 's werelds grootste natuurrampen in de geschiedenis van de mensheid).\n",
    "\n",
    "\n",
    "* Download het bestand dat de volledige structuur van dit eiwit beschrijft:\n",
    "    + Klik op de `Download Files` knop rechtsbovenaan de pagina\n",
    "    + Klik vervolgens op de `PDB Format` link in het verschenen menu\n",
    "    + Het bestand wordt nu gedownload naar de `Downloads` map\n",
    "\n",
    "Je ben nu klaar om dit molecuul in meer detail te gaan bekijken in PyMOL, ga hiervoor verder naar de volgende opdracht."
   ]
  },
  {
   "cell_type": "markdown",
   "metadata": {},
   "source": [
    "## 2. Visualisatie; *Hemagglutinine*\n",
    "\n",
    "De data waarmee gewerkt wordt in de bio-informatica is in de basis vaak tekst. Zoals grote bestanden vol met DNA- or aminozuur-sequenties (eiwitten). Indien mogelijk is het altijd aan te raden om de data te *visualiseren* om het zo beter inzichtelijk te maken. Het zojuist gedownloade PDB bestand is hier een goed voorbeeld van. Alleereerst gaan we kort kijken *wat* er in dit bestand staat om het daarna te visualiseren met PyMOL.\n",
    "\n",
    "* Doel:\n",
    "    + Inzicht verkrijgen in biologische *data*\n",
    "    + Kennismaking met PyMOL *interface*\n",
    "    + Verschillende visualisatie technieken toepassen (namelijk *atomistisch* en *cartoon*)\n",
    "    \n",
    "### Inhoud PDB-bestand\n",
    "\n",
    "Open de *bestandsbrowser* door in de onderste balk op de aangegeven knop te klikken: <img style=\"float: right;\" src=\"https://raw.githubusercontent.com/mkempenaar/hanze_skc/master/syllabus/images/debian_taskbar.png\" width=\"300\"/>. Ga vervolgens naar de `Downloads` map om het gedownloade PDB-bestand te vinden. Dit bestand is in principe een standaard tekst-bestand en kan daardoor door meerdere programma's geopend worden. Klik met de rechtermuis op het bestand en selecteer *Open File With* om daarna *Geany* te selecteren. Zoals te zien bovenaan het document staat veel van de informatie die te vinden is op de website ook hier in. Op regel `479` begint een onderdeel genaamd `SEQRES` waar de eiwit sequenties van alle losse onderdelen te vinden zijn. Om het molecuul in vol detail te kunnen weergeven is echter meer detail nodig. Hiervoor staat vanaf regel `775` tot bijna het einde van het bestand (meer dan 12.000 regels verder) per regel één atoom beschreven. Hieronder volgt een voorbeeld van 4 atomen op de posities 6047-6050:\n",
    "\n",
    "```\n",
    "ATOM   6047  N   PRO J 294      35.077 120.037  39.710  1.00 44.09           N \n",
    "ATOM   6048  CA  PRO J 294      34.451 118.833  40.257  1.00 42.65           C  \n",
    "ATOM   6049  C   PRO J 294      35.186 117.516  40.094  1.00 41.43           C  \n",
    "ATOM   6050  O   PRO J 294      34.975 116.596  40.879  1.00 41.99           O\n",
    "```\n",
    "\n",
    "De eerste drie komma-getallen zijn de x-, y- en z-coordinaten die gebruikt worden om het molecuul mee te visualiseren. De laatste kolom is het atoom dat zich op deze positie in het eiwit bevind (in dit voorbeeld; stikstof (*N*), koostof (*C*), koolstof en zuurstof (*O*)).\n",
    "\n",
    "### Visualisatie met PyMOL\n",
    "\n",
    "We gaan het bestand nu openen met PyMOL. Het programma PyMOL is te vinden in het *Applications* menu (linksboven), onder het submenu *Education* als *PyMOL Molecular Graphics System*. Wanneer je dit programma start verschijnen er twee aparte schermen; als eerste het zogenaamde *External GUI* met daarin de standaard menu-items als *File*, *Edit*, *Settings*, enz. Hiermee gaan we straks het PDB-bestand inladen. In een volgende oefening gaan we hier ook tekstuele commando's invoeren om het gedrag van PyMOL aan te passen\n",
    "<img src=\"https://raw.githubusercontent.com/mkempenaar/hanze_skc/master/syllabus/images/pymol_main_window.png\" />\n",
    "\n",
    "Het tweede scherm wordt ook wel de *PyMOL Viewer* genoemd waarin uiteindelijk het eiwit verschijnt en de opties voor weergave van het eiwit zijn ondergebracht.\n",
    "\n",
    "**Oefening**: Open het bestand door in de *PyMOL External GUI* in het *File* menu op *Open* te klikken en vervolgens het PDB-bestand te openen uit de `Downloads` map. \n",
    "\n",
    "Na het openen verschijnt het eiwit in beeld en is er in de *External GUI* informatie over het geladen eiwit te lezen, o.a. over de naam van het eiwit en de zogenaamde *chains*. Hemagglutinine bestaat namelijk uit twee hoofd-componenten (*HA1* en *HA2*, hier aangegeven met blauw en oranje) en deze komen elk drie keer voor in het eiwit (HA1: de chains H, J & L en HA2: I, K, M). <img src=\"https://raw.githubusercontent.com/mkempenaar/hanze_skc/master/syllabus/images/hemagglutinin_rcsb.png\" />\n",
    "De huidige weergave van het eiwit is wat onduidelijk, de chains zijn nu niet afzonderlijk te identificeren en doordat elk van de ~12.000 atomen wordt weergegeven is het wat chaotisch. Een betere weergave voor grote eiwitten is i.p.v. *line* (huidige weergave) de *cartoon*. Hierin worden de grote structuren in het eiwit zichtbaar; de zogeheten *helices* en *sheets*. In het *PyMOL Viewer* is nu in de rechter kolom de naam (PDB-identifier) van het eiwit zichtbaar met daarnaast 5 knoppen die gebruikt kunnen worden voor het aanpassen van de weergave: <img style=\"float: right;\" src=\"https://raw.githubusercontent.com/mkempenaar/hanze_skc/master/syllabus/images/pymol_molecule_settings.png\" /> We gaan de weergave in drie stappen aanpassen:\n",
    "* In het '*S*' (*Show*) menu: ga via het *`as`* menu naar *`cartoon`*: \n",
    "    + <img style=\"float: right;\" src=\"https://raw.githubusercontent.com/mkempenaar/hanze_skc/master/syllabus/images/pymol_model_settings.png\" />\n",
    "* In het `*L*` (*Label*) menu: zet de labels voor de *`chains`* aan, hiermee zijn de 6 verschillende chains te identificeren\n",
    "* In het `*C*` (*Color*) menu: zorg voor een kleur *per chain*, via het *`by chain`* menu op *`by chain`* te klikken: \n",
    "    + <img style=\"float: right;\" src=\"https://raw.githubusercontent.com/mkempenaar/hanze_skc/master/syllabus/images/pymol_color_settings.png\" />\n",
    "\n",
    "Het uiteindelijke resultaat zou er als volgt uit moeten zien (de orientatie kan middels de muis worden aangepast):\n",
    "\n",
    "<img src=\"https://raw.githubusercontent.com/mkempenaar/hanze_skc/master/syllabus/images/pymol_hemagglutinin.png\" width=\"300\"/>"
   ]
  },
  {
   "cell_type": "markdown",
   "metadata": {},
   "source": [
    "## 3. Data Analyse; *Interaction Sites*\n",
    "\n",
    "In deze opdracht wordt gewerkt aan het lokaliseren van bepalende lokaties van het Hemagglutinine eiwit. Ook grote eiwitten hebben vaak maar één of enkele locaties die daadwerkelijk interacties aangaan met andere moleculen. Zo is er van Hemagglutinine bekend op welke plekken het eiwit de interacties aangaat met de te infecteren cel tijdens de infectiecyclus. De lokatie waar we in deze opdracht in geinteresseerd zijn bevind zich direct naast zo'n *interactie lokatie* en het aminozuur op deze plek geeft de oorsprong aan van het eiwit. \n",
    "\n",
    "* Doel: \n",
    "    + Eerste kennismaking met programmeren\n",
    "    + Het verschil herkennen tussen *variabelen* van verschillende typen (namelijk *strings* en *integers*)\n",
    "    + Het bepalen van de oorsprong van het Hemagglutinine eiwit\n",
    "\n",
    "### Programmeren; introductie\n",
    "\n",
    "Om uiteindelijk te kunnen zoeken in de aminozuur-sequentie van Hemagglutinine maken we gebruik van de kracht van een *programmeertaal*. In dit geval werken we met *Python*, een taal die als standaard wordt gezien binnen de bio-informatica. Het document die je nu voor je hebt is een *interactieve omgeving* waarin met Python gewerkt kan worden om onze data te analyseren. Allereerst moet echter de basis van het programmeren duidelijk worden en aan de hand van voorbeelden leer je hier de basisprincipelen van het programmeren met Python. Onderaan dit document staan nog enkele links die verwijzen naar online bronnen waarmee je deze basiskennis kunt uitbreiden. Tijdens de opleiding beginnen we weer bij het absolute begin, maar alle voorkennis die je hebt is uiteindelijk mooi meegenomen.\n",
    "\n",
    "### Programmeren; *variabelen*\n",
    "\n",
    "Variabelen zijn een onmisbaar concept bij het programmeren en deze ken je mogelijk wel uit de wiskunde. De beschrijving op Wikipedia is voor nu afdoende:\n",
    "\n",
    "> \"Soms heb je een bepaalde (berekende) waarde (value) doorheen de programmacode meer dan één keer nodig. In dat geval kun je – i.p.v. die waarde steeds opnieuw te berekenen – de waarde opslaan in een variabele en dan gewoon de naam van de variabele gebruiken. Bij een complexe berekening kan je d.m.v. variabelen deze berekening opsplitsen in tussenstappen, waarvan je elk tussenresultaat kan opslaan in een aparte variabele. Een variabele is dus een benoemde geheugenlocatie waar gegevens opgeslagen kunnen worden.\"\n",
    "\n",
    "De laatste zin geeft aan dat het om een *benoemde geheugenlocatie* gaat waar je *gegevens* in kunt opslaan. Het meest simpele voorbeeld is bijv. het opslaan van het getal `10` in de variabele *benoemd met* **`x`**, of het woord *`hallo`* in de variabele **`groet`**. Onderstaande code laat deze twee voorbeelden zien in Python waarbij het '*opslaan van*' wordt uitgebeeld met het '**`=`**' teken. De naam van de variabele (het gedeelte voor het `=` teken) mag je volledig zelf bedenken:"
   ]
  },
  {
   "cell_type": "code",
   "execution_count": 1,
   "metadata": {},
   "outputs": [],
   "source": [
    "x = 10\n",
    "groet = \"hallo\""
   ]
  },
  {
   "cell_type": "markdown",
   "metadata": {},
   "source": [
    "#### Type variabelen\n",
    "\n",
    "In bovenstaand voorbeeld maken we gebruik van twee *type* variabelen, namelijk *integers* voor het opslaan van hele getallen (zoals het getal `10` hierboven) en *strings* (voor het opslaan van alle tekstuele data vormen, zoals het woord '`hallo`' hierboven). Afhankelijk van het type variabele kun je er andere *operaties* mee uitvoeren. Zo is het mogelijk om met *integers* te rekenen (optellen, aftrekken, delen, enz.) en met *strings* is het mogelijk om tekst (letters, woorden, zinnen of - in de bio-informatica - *sequenties*) te zoeken, op te delen (splitsen), combineren, enz. Het type van een variabele wordt alleen bepaald door wat eraan toegewezen wordt. Tijdens onderstaande oefening maken we gebruik van beide variabele typen.\n",
    "\n",
    "#### Werken met variabelen\n",
    "\n",
    "Hier volgen enkele code-voorbeelden van veelgebruikte *operaties* met variabelen. Deze zijn niet direct noodzakelijk voor de opdrachten maar zijn meer bedoeld om te laten zien wat er veelal mee gedaan kan worden. De tekst die wordt voorafgegaan door een hekje (*`#`*) is zogenaamd *commentaar*, dit wordt genegeerd door Python en heeft als doel om code te verduidelijken.\n",
    "\n",
    "De `print` *functies* in onderstaande code zorgt er alleen voor dat het resultaat van bijv. een berekening zichtbaar wordt:\n",
    "* Klik met de muis in onderstaande code\n",
    "* Voer de code uit door op de toetsen `Shift + Enter` te drukken\n",
    "\n",
    "Het resultaat van de berekeningen komt nu direct onder de code te staan. Het is in deze interactieve omgeving mogelijk om bijv. getallen aan te passen en dan nogmaals middels `Shift + Enter` deze uit te voeren."
   ]
  },
  {
   "cell_type": "code",
   "execution_count": 5,
   "metadata": {},
   "outputs": [
    {
     "name": "stdout",
     "output_type": "stream",
     "text": [
      "-20\n",
      "12\n",
      "5.0\n"
     ]
    }
   ],
   "source": [
    "# Het 'definieren' van twee integer variabelen, x en y\n",
    "x = 10\n",
    "y = -2\n",
    "\n",
    "# vermenigvuldigen\n",
    "z = y * x\n",
    "print(z)\n",
    "\n",
    "# optellen\n",
    "z = x + 2\n",
    "print(z)\n",
    "\n",
    "# delen\n",
    "z = x / 2\n",
    "print(z)"
   ]
  },
  {
   "cell_type": "markdown",
   "metadata": {},
   "source": [
    "Het volgende stuk code geeft enkele voorbeelden van *string* operaties en het gebruik van één van de vele *functies*. Ook het resultaat hiervan kan *geprint* worden door de code uit te voeren:"
   ]
  },
  {
   "cell_type": "code",
   "execution_count": 11,
   "metadata": {},
   "outputs": [
    {
     "name": "stdout",
     "output_type": "stream",
     "text": [
      "Hallo, Henk\n",
      "Hallo, Hallo, Hallo, Henk\n",
      "HENK\n"
     ]
    }
   ],
   "source": [
    "# Strings:\n",
    "groet = \"Hallo, \"\n",
    "naam = \"Henk\"\n",
    "\n",
    "# combineren ('optellen')\n",
    "print( groet + naam )\n",
    "\n",
    "# herhalen ('vermenigvuldigen')\n",
    "print( groet * 3 + naam)\n",
    "\n",
    "# alles in hoofdletters\n",
    "print( naam.upper() )"
   ]
  },
  {
   "cell_type": "markdown",
   "metadata": {},
   "source": [
    "### Programmeren; *slicing*\n",
    "\n",
    "Getals variabelen bevatten altijd maar één getal (`x = 42`) en het is niet mogelijk om hier alleen de `4` of de `2` uit te halen (is ook vrij zinloos). Met string variabelen is het echter wel mogelijk om elke **letter** afzonderlijk te benaderen, bijv. de eerste of laatste letter, of de eerste drie letters enz. De technische term hiervoor is *slicen*, oftewel er een gedeelte 'uit snijden'. Door blokhaken ('`[`' en '`]`') *achter* de variabele naam te plaatsen met daartussen een getal kunnen er karakters uitgehaald worden. Belangrijk punt om te onthouden, het **eerste** element zit op positie **0**! Zo zal bijv. het getal 10 het 11$^e$ karakter uit de string geven, bijvoorbeeld `seq[10]` geeft het 11$^e$ karakter uit de string variabele `seq`. \n",
    "\n",
    "Naast een enkel getal zijn er nog meer opties om tussen de blokhaken te zetten. De opties die we nodig hebben zijn:\n",
    "* een getals*reeks* met een start en een eind, gescheiden door een dubbele-punt '`:`', bijvoorbeeld:\n",
    "    + Van het eerste tot en met het 3$^e$ karakter: `seq[`**`0:3`**`]` (dit zijn echter posities 0, 1 & 2!)\n",
    "    + Van karakter 10 t/m 15: `seq[`**`9:15`**`]`\n",
    "* Van het begin t/m een bepaalde positie, of vanaf een bepaalde positie *tot het einde* door het weglaten van het *start* of *eind* getal:\n",
    "    + Van het begin t/m het 3$^e$ karakter: `seq[`**`:3`**`]`\n",
    "    + Vanaf karakter 10 (positie 9) t/m het einde: `seq[`**`9:`**`]`\n",
    "* En als laatste het gebruik van *negatieve posities* om vanaf het eind te beginnen:\n",
    "    + De laatste drie karakters door van positie `-3` tot en met het einde: `seq[`**`-3:`**`]`\n",
    "\n",
    "Hieronder staat een stuk *interactieve code* die bovenstaande voorbeelden demonstreert. Om het resultaat van een *expressie* te zien is het nodig om deze te *printen*. Om deze reden staat er overal `print( )` omheen met tussen de haakjes een stukje tekst dat aangeeft wat er geprint wordt en daarna - gescheiden met een komma - een voorbeeld van *slicing* zoals hierboven besproken. Als onderstaande code wordt aangepast kan deze uitgevoerd worden met de toetscombinatie `Shift + Enter`.\n",
    "\n",
    "**Oefening:** Verander de laatste regel uit onderstaand code voorbeeld zodat het *tweede* codon geprint wordt ('`TCA`'). Pas het gedeelte '`seq[0]`' aan zodat, wanneer je op `Shift + Enter` drukt er het juiste codon geprint wordt."
   ]
  },
  {
   "cell_type": "code",
   "execution_count": null,
   "metadata": {},
   "outputs": [],
   "source": [
    "# Voorbeeld sequentie opgeslagen als String in de variabele 'seq'\n",
    "seq = \"ATGTCAGACCTAGTGCCGGAATCGATCGATATCGAGTAG\"\n",
    "\n",
    "# De volgende vier 'statements' printen elk één of meerdere basen uit bovenstaande DNA sequentie\n",
    "print('De eerste base:', seq[0] )\n",
    "\n",
    "print('De laatste base:', seq[-1] )\n",
    "\n",
    "print('De eerste drie basen (eerste \"codon\"):', seq[0:3] )\n",
    "\n",
    "print('De laatste drie basen (laatste \"codon\"):', seq[-3:] )\n",
    "\n",
    "print('Het tweede \"codon\" (TCA, basen 4 t/m 6):', seq[0])"
   ]
  },
  {
   "cell_type": "markdown",
   "metadata": {},
   "source": [
    "Zoals we hebben gezien bestaat het eiwit Hemagglutinine ten minste uit 6 onderdelen; de twee unieke componenten HA1 en HA2 die elk drie keer in het uiteindelijke eiwit zitten (de *chains*). In elk van deze chains zitten enkele aminozuren die ervoor zorgen dat het zijn schadelijke effect kan uitoefenen.\n",
    "\n",
    "In de volgende oefening gaan we kijken wat de *oorsprong* van dit Influenza virus is. Als er namelijk op positie **72** in de H, J en L chains een **asparaginezuur** amiozuur (aangeduid met de letter **D**) zit, heeft het virus een oorspong in de vogel. Als er op deze positie echter het aminozuur **glutaminezuur** (aangeduid met de letter **E**) zit, is het virus oorspronkelijk afkomstig uit de mens.\n",
    "\n",
    "**Oefening:** Bepaal welk aminozuur er op positie **72** zit in de sequentie opgeslagen in de variabele `seq` en print deze. Download hiervoor het [bijbehorende *FASTA* bestand](https://www.rcsb.org/pdb/download/downloadFastaFiles.do?structureIdList=1RUZ&compressionType=uncompressed), ook afkomstig uit de *Protein Data Bank*. Open dit bestand (zie de `Downloads` map, zoals bij Opdracht 2) in de Geany tekst-editor en kopieer de sequentie van de juiste *chain* en sla deze op in de variabele `seq` in het code voorbeeld hier onder, tussen de dubbele aanhalingstekens. Voeg de benodigde code als laatste regel toe in onderstaand voorbeeld en gebruik `Shift + Enter` om het resultaat te kunnen zien. Wat is de oorsprong van deze variant van het Influenza virus?"
   ]
  },
  {
   "cell_type": "code",
   "execution_count": null,
   "metadata": {},
   "outputs": [],
   "source": [
    "# De sequentie voor de chains H, J en L.\n",
    "seq = \"\"\n",
    "\n",
    "# Geeft de lengte van de sequentie aan\n",
    "print(\"Lengte van de aminozuur sequentie:\", len(seq))\n",
    "\n",
    "# Bepaling aminozuur op positie 72\n"
   ]
  },
  {
   "cell_type": "markdown",
   "metadata": {},
   "source": [
    "## 4. Visualisatie; *Active Sites*\n",
    "\n",
    "* Doel:\n",
    "    + Koppeling tussen grafische interface en commandogestuurd taken uitvoeren\n",
    "\n"
   ]
  },
  {
   "cell_type": "markdown",
   "metadata": {},
   "source": [
    "## 5. Data Analyse; *Sequence Alignment*\n",
    "\n",
    "Nu we een goed beeld hebben van het eiwit van de H1 variant uit 1918 kunnen we een vergelijking maken met een Hemagglutinine eiwit van een *andere* variant.\n",
    "\n",
    "* Doel:\n",
    "    + Data vergelijken met programmeer technieken\n",
    "\n",
    "### Programmeren; *vergelijkingen*\n",
    "\n",
    "Het vergelijken van *objecten* (bijv. getallen of tekst) is een belangrijke, veelvoorkomende taak bij het programmeren."
   ]
  },
  {
   "cell_type": "code",
   "execution_count": null,
   "metadata": {},
   "outputs": [],
   "source": []
  },
  {
   "cell_type": "markdown",
   "metadata": {},
   "source": [
    "### Programmeren; *herhaling*\n",
    "\n",
    "Mogelijk is het al duidelijk geworden, maar het vergelijken van sequenties die - van nature - bestaan uit meerdere karakters (basen of aminozuren) kan niet met een enkel `if`-statement. Een sequentie vergelijken gaat per karakter, met de sequenties waar wij naar kijken dus al gauw zo'n 300 vergelijkingen in totaal. Aangezien de procedure van elke individuele vergelijking hetzelfde is kunnen we gebruik maken van *herhaling*."
   ]
  },
  {
   "cell_type": "code",
   "execution_count": null,
   "metadata": {},
   "outputs": [],
   "source": []
  },
  {
   "cell_type": "markdown",
   "metadata": {},
   "source": [
    "# Referenties en Links"
   ]
  },
  {
   "cell_type": "code",
   "execution_count": null,
   "metadata": {},
   "outputs": [],
   "source": []
  }
 ],
 "metadata": {
  "kernelspec": {
   "display_name": "Python 3",
   "language": "python",
   "name": "python3"
  },
  "language_info": {
   "codemirror_mode": {
    "name": "ipython",
    "version": 3
   },
   "file_extension": ".py",
   "mimetype": "text/x-python",
   "name": "python",
   "nbconvert_exporter": "python",
   "pygments_lexer": "ipython3",
   "version": "3.6.4"
  }
 },
 "nbformat": 4,
 "nbformat_minor": 2
}
